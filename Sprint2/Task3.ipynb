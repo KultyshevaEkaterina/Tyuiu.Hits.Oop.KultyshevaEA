{
 "cells": [
  {
   "cell_type": "markdown",
   "metadata": {},
   "source": [
    "<h1 style=\"color:DodgerBlue\">Индивидальный проект</h1>"
   ]
  },
  {
   "cell_type": "markdown",
   "metadata": {},
   "source": [
    "<h2 style=\"color:DodgerBlue\">Название проекта:</h2>\n",
    "\n",
    "----\n",
    "\n",
    "### Вариант задания 10\n"
   ]
  },
  {
   "cell_type": "markdown",
   "metadata": {},
   "source": [
    "<h2 style=\"color:DodgerBlue\">Описание проекта:</h2>\n",
    "\n",
    "----\n",
    "\n",
    "Создать базовый класс Invoice в C#, который будет представлять информацию о\n",
    "фактурах за поставленные товары или оказанные услуги. На основе этого класса\n",
    "разработать 2-3 производных класса, демонстрирующих принципы наследования и\n",
    "полиморфизма. В каждом из классов должны быть реализованы новые атрибуты и\n",
    "методы, а также переопределены некоторые методы базового класса для\n",
    "демонстрации полиморфизма.\n",
    "\n",
    "Требования к базовому классу Invoice:\n",
    "\n",
    "• Атрибуты: \n",
    "•Номер фактуры (InvoiceNumber)\n",
    "•Дата выдачи (IssueDate)\n",
    "•Общая сумма (TotalAmount).\n",
    "\n",
    "• Методы:\n",
    "\n",
    "o CalculateTotal(): метод для расчета общей суммы по фактуре.\n",
    "o AddLine(LineItem lineItem): метод для добавления позиции в фактуру.\n",
    "o RemoveLine(LineItem lineItem): метод для удаления позиции из\n",
    "фактуры.\n",
    "\n",
    "Требования к производным классам:\n",
    "1. ТоварнаяФактура (GoodsInvoice): Должна содержать дополнительные\n",
    "атрибуты, такие как Дата поставки (SupplyDate). Метод AddLine() должен\n",
    "быть переопределен для добавления информации о дате поставки товара\n",
    "при добавлении позиции.\n",
    "2. УслуговаяФактура (ServiceInvoice): Должна содержать дополнительные\n",
    "атрибуты, такие как Дата оказания услуги (ServiceDate).\n",
    "Метод RemoveLine() должен быть переопределен для добавления\n",
    "информации о причине аннулирования услуги при удалении позиции.\n",
    "3. КомбинированнаяФактура (CombinedInvoice) (если требуется третий класс):\n",
    "Должна содержать дополнительные атрибуты, такие как Наличие возврата\n",
    "(ReturnAllowed). Метод CalculateTotal() должен быть переопределен для\n",
    "учета возможного возврата товара или услуги при расчете общей суммы.\n",
    "\n",
    "\n",
    "#### Дополнительное задание\n",
    "Добавьте к сущестующим классам (базовыму и производным 3-4 атрибута и метода) и реализуйте простое, сложное и множественное наследование"
   ]
  },
  {
   "cell_type": "markdown",
   "metadata": {},
   "source": [
    "<h2 style=\"color:DodgerBlue\">Реализация:</h2>\n",
    "\n",
    "----"
   ]
  },
  {
   "cell_type": "code",
   "execution_count": null,
   "metadata": {
    "dotnet_interactive": {
     "language": "csharp"
    },
    "polyglot_notebook": {
     "kernelName": "csharp"
    }
   },
   "outputs": [],
   "source": [
    "using System;\n",
    "using System.Collections.Generic;\n",
    "\n",
    "public class LineItem\n",
    "{\n",
    "    public string Description { get; set; } \n",
    "    public decimal Price { get; set; } \n",
    "    public int Quantity { get; set; } \n",
    "    public decimal Discount { get; set; } \n",
    "    public string SKU { get; set; } \n",
    "\n",
    "    public LineItem(string description, decimal price, int quantity, decimal discount = 0, string sku = null)\n",
    "    {\n",
    "        Description = description;\n",
    "        Price = price;\n",
    "        Quantity = quantity;\n",
    "        Discount = discount;\n",
    "        SKU = sku;\n",
    "    }\n",
    "\n",
    "    public decimal GetTotal()\n",
    "    {\n",
    "        decimal total = Price * Quantity;\n",
    "        return total - Discount;\n",
    "    }\n",
    "}\n",
    "\n",
    "public class Invoice\n",
    "{\n",
    "    public string InvoiceNumber { get; set; } \n",
    "    public DateTime IssueDate { get; set; } \n",
    "    public decimal TotalAmount { get; set; }\n",
    "    public string CustomerName { get; set; } \n",
    "    public string PaymentMethod { get; set; } \n",
    "    public string Currency { get; set; } \n",
    "\n",
    "    protected List<LineItem> LineItems = new List<LineItem>(); \n",
    "\n",
    "    public Invoice(string invoiceNumber, DateTime issueDate, string customerName, string paymentMethod, string currency)\n",
    "    {\n",
    "        InvoiceNumber = invoiceNumber;\n",
    "        IssueDate = issueDate;\n",
    "        TotalAmount = 0;\n",
    "        CustomerName = customerName;\n",
    "        PaymentMethod = paymentMethod;\n",
    "        Currency = currency;\n",
    "    }\n",
    "\n",
    "    public virtual void AddLine(LineItem lineItem)\n",
    "    {\n",
    "        LineItems.Add(lineItem);\n",
    "        CalculateTotal();\n",
    "    }\n",
    "\n",
    "    public virtual void RemoveLine(LineItem lineItem)\n",
    "    {\n",
    "        LineItems.Remove(lineItem);\n",
    "        CalculateTotal();\n",
    "    }\n",
    "\n",
    "    public virtual void CalculateTotal()\n",
    "    {\n",
    "        TotalAmount = 0;\n",
    "        foreach (var item in LineItems)\n",
    "        {\n",
    "            TotalAmount += item.GetTotal();\n",
    "        }\n",
    "    }\n",
    "\n",
    "    public void PrintInvoice()\n",
    "    {\n",
    "        Console.WriteLine($\"Номер фактуры: {InvoiceNumber}, Дата выпуска: {IssueDate.ToShortDateString()}, \" + $\"Клиент: {CustomerName}, Способ оплаты: {PaymentMethod}, Валюта: {Currency}, \" + $\"Общая сумма: {TotalAmount}\");\n",
    "    }\n",
    "}\n"
   ]
  },
  {
   "cell_type": "code",
   "execution_count": null,
   "metadata": {
    "dotnet_interactive": {
     "language": "csharp"
    },
    "polyglot_notebook": {
     "kernelName": "csharp"
    }
   },
   "outputs": [
    {
     "name": "stdout",
     "output_type": "stream",
     "text": [
      "Добавлен товар с указанием даты поставки: 14.10.2024\n",
      "Добавлен товар с указанием даты поставки: 14.10.2024\n",
      "Номер фактуры: INV001, Дата выпуска: 09.10.2024, Клиент: Иван Иванов, Способ оплаты: Кредитная карта, Валюта: RUB, Общая сумма: 100001900\n"
     ]
    }
   ],
   "source": [
    "public class GoodsInvoice : Invoice\n",
    "{\n",
    "    public DateTime SupplyDate { get; set; }\n",
    "\n",
    "    public GoodsInvoice(string invoiceNumber, DateTime issueDate, DateTime supplyDate, string customerName, string paymentMethod, string currency)\n",
    "        : base(invoiceNumber, issueDate, customerName, paymentMethod, currency)\n",
    "    {\n",
    "        SupplyDate = supplyDate;\n",
    "    }\n",
    "\n",
    "    public override void AddLine(LineItem lineItem)\n",
    "    {\n",
    "        base.AddLine(lineItem);\n",
    "        Console.WriteLine($\"Добавлен товар с указанием даты поставки: {SupplyDate.ToShortDateString()}\");\n",
    "    }\n",
    "}\n",
    "GoodsInvoice goodsInvoice = new GoodsInvoice(\"INV001\", DateTime.Now, DateTime.Now.AddDays(5), \"Иван Иванов\", \"Кредитная карта\", \"RUB\");\n",
    "LineItem goodsItem = new LineItem(\"Ноутбук\", 1000, 2, 100, \"SKU001\");\n",
    "LineItem goodsItem1 = new LineItem(\"Самолёт\", 100000000, 1);\n",
    "goodsInvoice.AddLine(goodsItem);\n",
    "goodsInvoice.AddLine(goodsItem1);\n",
    "goodsInvoice.PrintInvoice();\n",
    "\n",
    "\n"
   ]
  },
  {
   "cell_type": "code",
   "execution_count": null,
   "metadata": {
    "dotnet_interactive": {
     "language": "csharp"
    },
    "polyglot_notebook": {
     "kernelName": "csharp"
    }
   },
   "outputs": [
    {
     "name": "stdout",
     "output_type": "stream",
     "text": [
      "Номер фактуры: INV002, Дата выпуска: 09.10.2024, Клиент: Петр Петров, Способ оплаты: Наличный расчет, Валюта: RUB, Общая сумма: 200\r\n"
     ]
    }
   ],
   "source": [
    "public class ServiceInvoice : Invoice\n",
    "{\n",
    "    public DateTime ServiceDate { get; set; } \n",
    "\n",
    "    public ServiceInvoice(string invoiceNumber, DateTime issueDate, DateTime serviceDate, string customerName, string paymentMethod, string currency)\n",
    "        : base(invoiceNumber, issueDate, customerName, paymentMethod, currency)\n",
    "    {\n",
    "        ServiceDate = serviceDate;\n",
    "    }\n",
    "\n",
    "    public override void RemoveLine(LineItem lineItem)\n",
    "    {\n",
    "        base.RemoveLine(lineItem);\n",
    "        Console.WriteLine($\"Удаленная позиция: {ServiceDate.ToShortDateString()}, Причина: Клиент запросил отмену.\");\n",
    "    }\n",
    "}\n",
    "ServiceInvoice serviceInvoice = new ServiceInvoice(\"INV002\", DateTime.Now, DateTime.Now.AddDays(1), \"Петр Петров\", \"Наличный расчет\", \"RUB\");\n",
    "LineItem serviceItem = new LineItem(\"Клининг сервис\", 200, 1);\n",
    "\n",
    "serviceInvoice.AddLine(serviceItem);\n",
    "serviceInvoice.PrintInvoice();"
   ]
  },
  {
   "cell_type": "code",
   "execution_count": null,
   "metadata": {
    "dotnet_interactive": {
     "language": "csharp"
    },
    "polyglot_notebook": {
     "kernelName": "csharp"
    }
   },
   "outputs": [
    {
     "name": "stdout",
     "output_type": "stream",
     "text": [
      "Возврат разрешен. Применяется скидка.\n",
      "Номер фактуры: INV003, Дата выпуска: 09.10.2024, Клиент: Сидор Сидоров, Способ оплаты: Электронный перевод, Валюта: USD, Общая сумма: 0,0\n"
     ]
    }
   ],
   "source": [
    "// Класс комбинированного счета (CombinedInvoice) с множественным наследованием\n",
    "public class CombinedInvoice : Invoice\n",
    "{\n",
    "    protected bool ReturnAllowed { get; set; }\n",
    "\n",
    "    public CombinedInvoice(string invoiceNumber, DateTime issueDate, bool returnAllowed, string customerName, string paymentMethod, string currency)\n",
    "        : base(invoiceNumber, issueDate, customerName, paymentMethod, currency)\n",
    "    {\n",
    "        ReturnAllowed = returnAllowed;\n",
    "    }\n",
    "\n",
    "    public override void CalculateTotal()\n",
    "    {\n",
    "        base.CalculateTotal();\n",
    "        if (ReturnAllowed)\n",
    "        {\n",
    "            TotalAmount *= 0.9m; \n",
    "            Console.WriteLine(\"Возврат разрешен. Применяется скидка.\");\n",
    "        }\n",
    "    }\n",
    "}\n",
    "CombinedInvoice combinedInvoice = new CombinedInvoice(\"INV003\", DateTime.Now, true, \"Сидор Сидоров\", \"Электронный перевод\", \"USD\");\n",
    "LineItem combinedItem = new LineItem(\"Строительная компания\", 500, 1);\n",
    "LineItem combinedItem1 = new LineItem(\"Офисный стул\", 150, 4);\n",
    "\n",
    "// combinedInvoice.AddLine(combinedItem);\n",
    "// combinedInvoice.AddLine(combinedItem1);\n",
    "combinedInvoice.CalculateTotal();\n",
    "combinedInvoice.PrintInvoice();\n"
   ]
  },
  {
   "cell_type": "code",
   "execution_count": null,
   "metadata": {
    "dotnet_interactive": {
     "language": "csharp"
    },
    "polyglot_notebook": {
     "kernelName": "csharp"
    }
   },
   "outputs": [
    {
     "name": "stdout",
     "output_type": "stream",
     "text": [
      "Общая сумма всех фактур: 100002100,0\r\n"
     ]
    }
   ],
   "source": [
    "public class EconomicInvoice\n",
    "{\n",
    "    private static List<Invoice> allInvoices = new List<Invoice>();\n",
    "\n",
    "    public static void AddInvoice(Invoice invoice)\n",
    "    {\n",
    "        allInvoices.Add(invoice);\n",
    "    }\n",
    "\n",
    "    public static decimal GetTotalOfAllInvoices()\n",
    "    {\n",
    "        decimal total = 0;\n",
    "        foreach (var invoice in allInvoices)\n",
    "        {\n",
    "            total += invoice.TotalAmount; \n",
    "        }\n",
    "        return total;\n",
    "    }\n",
    "}\n",
    "\n",
    "EconomicInvoice.AddInvoice(goodsInvoice);\n",
    "EconomicInvoice.AddInvoice(serviceInvoice);\n",
    "EconomicInvoice.AddInvoice(combinedInvoice);\n",
    "\n",
    "Console.WriteLine($\"Общая сумма всех фактур: {EconomicInvoice.GetTotalOfAllInvoices()}\");\n"
   ]
  }
 ],
 "metadata": {
  "kernelspec": {
   "display_name": ".NET (C#)",
   "language": "C#",
   "name": ".net-csharp"
  },
  "polyglot_notebook": {
   "kernelInfo": {
    "defaultKernelName": "csharp",
    "items": [
     {
      "aliases": [],
      "languageName": "csharp",
      "name": "csharp"
     }
    ]
   }
  }
 },
 "nbformat": 4,
 "nbformat_minor": 2
}
