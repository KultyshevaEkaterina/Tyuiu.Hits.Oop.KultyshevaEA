{
 "cells": [
  {
   "cell_type": "markdown",
   "metadata": {},
   "source": [
    "<h1 style=\"color:DodgerBlue\">Индивидальный проект</h1>"
   ]
  },
  {
   "cell_type": "markdown",
   "metadata": {},
   "source": [
    "<h2 style=\"color:DodgerBlue\">Название проекта:</h2>\n",
    "\n",
    "----\n",
    "\n",
    "### Вариант задания №10\n"
   ]
  },
  {
   "cell_type": "markdown",
   "metadata": {},
   "source": [
    "<h2 style=\"color:DodgerBlue\">Описание проекта:</h2>\n",
    "\n",
    "----\n",
    "\n",
    "Создать базовый класс Invoice в C#, который будет представлять информацию о\n",
    "фактурах за поставленные товары или оказанные услуги. На основе этого класса\n",
    "разработать 2-3 производных класса, демонстрирующих принципы наследования и\n",
    "полиморфизма. В каждом из классов должны быть реализованы новые атрибуты и\n",
    "методы, а также переопределены некоторые методы базового класса для\n",
    "демонстрации полиморфизма.\n",
    "\n",
    "Требования к базовому классу Invoice:\n",
    "\n",
    "• Атрибуты: \n",
    "•Номер фактуры (InvoiceNumber)\n",
    "•Дата выдачи (IssueDate)\n",
    "•Общая сумма (TotalAmount).\n",
    "\n",
    "• Методы:\n",
    "\n",
    "o CalculateTotal(): метод для расчета общей суммы по фактуре.\n",
    "o AddLine(LineItem lineItem): метод для добавления позиции в фактуру.\n",
    "o RemoveLine(LineItem lineItem): метод для удаления позиции из\n",
    "фактуры.\n",
    "\n",
    "Требования к производным классам:\n",
    "1. ТоварнаяФактура (GoodsInvoice): Должна содержать дополнительные\n",
    "атрибуты, такие как Дата поставки (SupplyDate). Метод AddLine() должен\n",
    "быть переопределен для добавления информации о дате поставки товара\n",
    "при добавлении позиции.\n",
    "2. УслуговаяФактура (ServiceInvoice): Должна содержать дополнительные\n",
    "атрибуты, такие как Дата оказания услуги (ServiceDate).\n",
    "Метод RemoveLine() должен быть переопределен для добавления\n",
    "информации о причине аннулирования услуги при удалении позиции.\n",
    "3. КомбинированнаяФактура (CombinedInvoice) (если требуется третий класс):\n",
    "Должна содержать дополнительные атрибуты, такие как Наличие возврата\n",
    "(ReturnAllowed). Метод CalculateTotal() должен быть переопределен для\n",
    "учета возможного возврата товара или услуги при расчете общей суммы.\n",
    "\n",
    "\n",
    "#### Дополнительное задание\n",
    "Добавьте к сущестующим классам конструктора классов с использованием гетторов и сетторов и реализуйте взаимодействие объектов между собой"
   ]
  },
  {
   "cell_type": "markdown",
   "metadata": {},
   "source": [
    "<h2 style=\"color:DodgerBlue\">Реализация:</h2>\n",
    "\n",
    "----"
   ]
  },
  {
   "cell_type": "code",
   "execution_count": 1,
   "metadata": {
    "dotnet_interactive": {
     "language": "csharp"
    },
    "polyglot_notebook": {
     "kernelName": "csharp"
    }
   },
   "outputs": [],
   "source": [
    "public class LineItem\n",
    "{\n",
    "    public string Description { get; set; }\n",
    "    public decimal Price { get; set; }\n",
    "    public int Quantity { get; set; }\n",
    "\n",
    "    public LineItem(string description, decimal price, int quantity)\n",
    "    {\n",
    "        Description = description;\n",
    "        Price = price;\n",
    "        Quantity = quantity;\n",
    "    }\n",
    "\n",
    "    public decimal GetTotal()\n",
    "    {\n",
    "        return Price * Quantity;\n",
    "    }\n",
    "}\n",
    "\n",
    "public class Invoice\n",
    "{\n",
    "    public string InvoiceNumber{get;set;}\n",
    "    public DateTime IssueDate{get;set;}\n",
    "    public decimal TotalAmount{get;set;}\n",
    "\n",
    "    protected List<LineItem> LineItems = new List<LineItem>();\n",
    "\n",
    "    public Invoice(string invoiceNumber, DateTime issueDate)\n",
    "    {\n",
    "        InvoiceNumber=invoiceNumber;\n",
    "        IssueDate=issueDate;\n",
    "        TotalAmount=0;\n",
    "    }\n",
    "\n",
    "public virtual void AddLine(LineItem lineItem)\n",
    "{\n",
    "    LineItems.Add(lineItem);\n",
    "    CalculateTotal();\n",
    "}\n",
    "\n",
    "public virtual void RemoveLine(LineItem lineItem)\n",
    "{\n",
    "    LineItems.Remove(lineItem);\n",
    "    CalculateTotal();\n",
    "}\n",
    "\n",
    "public virtual void CalculateTotal()\n",
    "{\n",
    "    TotalAmount=0;\n",
    "    foreach (var item in LineItems)\n",
    "    {\n",
    "        TotalAmount+= item.GetTotal();\n",
    "    }\n",
    "}\n",
    "\n",
    "public void PrintInvoice()\n",
    "{\n",
    "    Console.WriteLine($\"Номер фактуры: {InvoiceNumber}, Дата выпуска: {IssueDate}, Общая сумма: {TotalAmount}\");\n",
    "}\n",
    "\n",
    "}"
   ]
  },
  {
   "cell_type": "code",
   "execution_count": null,
   "metadata": {
    "dotnet_interactive": {
     "language": "csharp"
    },
    "polyglot_notebook": {
     "kernelName": "csharp"
    }
   },
   "outputs": [],
   "source": [
    "public class GoodsInvoice : Invoice\n",
    "{\n",
    "    public DateTime SupplyDate { get; set; }\n",
    "\n",
    "    public GoodsInvoice(string invoiceNumber, DateTime issueDate, DateTime supplyDate)\n",
    "        : base(invoiceNumber, issueDate)\n",
    "    {\n",
    "        SupplyDate = supplyDate;\n",
    "    }\n",
    "\n",
    "    public override void AddLine(LineItem lineItem)\n",
    "    {\n",
    "        base.AddLine(lineItem);\n",
    "        Console.WriteLine($\"Добавлен товар с указанием даты поставки: {SupplyDate.ToShortDateString()}\");\n",
    "    }\n",
    "}\n",
    "\n",
    "GoodsInvoice goodsInvoice = new GoodsInvoice(\"INV001\", DateTime.Now, DateTime.Now.AddDays(5));\n",
    "LineItem goodsItem = new LineItem(\"Ноутбук\", 1000, 2);\n",
    "LineItem goodsItem1 = new LineItem(\"Самолёт\", 100000000, 1);\n",
    "goodsInvoice.AddLine(goodsItem);\n",
    "goodsInvoice.AddLine(goodsItem1);\n",
    "Console.WriteLine($\"Описание товара: {goodsItem.Description}, Цена: {goodsItem.Price}, Количество: {goodsItem.Quantity}\");\n",
    "Console.WriteLine($\"Описание товара: {goodsItem1.Description}, Цена: {goodsItem1.Price}, Количество: {goodsItem1.Quantity}\");\n",
    "goodsInvoice.PrintInvoice();\n"
   ]
  },
  {
   "cell_type": "code",
   "execution_count": null,
   "metadata": {
    "dotnet_interactive": {
     "language": "csharp"
    },
    "polyglot_notebook": {
     "kernelName": "csharp"
    }
   },
   "outputs": [],
   "source": [
    "public class ServiceInvoice : Invoice\n",
    "{\n",
    "    public DateTime ServiceDate { get; set; }\n",
    "\n",
    "    public ServiceInvoice(string invoiceNumber, DateTime issueDate, DateTime serviceDate)\n",
    "        : base(invoiceNumber, issueDate)\n",
    "    {\n",
    "        ServiceDate = serviceDate;\n",
    "    }\n",
    "\n",
    "    public override void RemoveLine(LineItem lineItem)\n",
    "    {\n",
    "        base.RemoveLine(lineItem);\n",
    "        Console.WriteLine($\"Удаленная позиция: {ServiceDate.ToShortDateString()}, Причина: Клиент запросил отмену.\");\n",
    "    }\n",
    "}\n",
    "\n",
    "ServiceInvoice serviceInvoice = new ServiceInvoice(\"INV002\", DateTime.Now, DateTime.Now.AddDays(1));\n",
    "LineItem serviceItem = new LineItem(\"Клининг сервис\", 200, 1);\n",
    "Console.WriteLine($\"Описание услуги: {serviceItem.Description}, Цена: {serviceItem.Price}, Количество: {serviceItem.Quantity}\");\n",
    "serviceInvoice.AddLine(serviceItem);\n",
    "serviceInvoice.RemoveLine(serviceItem);\n",
    "serviceInvoice.PrintInvoice();\n",
    "\n"
   ]
  },
  {
   "cell_type": "code",
   "execution_count": null,
   "metadata": {
    "dotnet_interactive": {
     "language": "csharp"
    },
    "polyglot_notebook": {
     "kernelName": "csharp"
    }
   },
   "outputs": [],
   "source": [
    "public class CombinedInvoice : Invoice\n",
    "{\n",
    "    protected bool ReturnAllowed { get; set; }\n",
    "\n",
    "    public CombinedInvoice(string invoiceNumber, DateTime issueDate, bool returnAllowed)\n",
    "        : base(invoiceNumber, issueDate)\n",
    "    {\n",
    "        ReturnAllowed = returnAllowed;\n",
    "    }\n",
    "\n",
    "    public override void CalculateTotal()\n",
    "    {\n",
    "        base.CalculateTotal();\n",
    "        if (ReturnAllowed)\n",
    "        {   \n",
    "            TotalAmount *= 0.9m;\n",
    "            Console.WriteLine(\"Возврат разрешен. Применяется скидка.\");\n",
    "        }\n",
    "    }\n",
    "}\n",
    "\n",
    "CombinedInvoice combinedInvoice = new CombinedInvoice(\"INV003\", DateTime.Now, true);\n",
    "LineItem combinedItem = new LineItem(\"Строительная компания\", 500, 1);\n",
    "LineItem combinedItem1 = new LineItem(\"Офисный стул\", 150, 4);\n",
    "Console.WriteLine($\"Описание услуги: {combinedItem.Description}, Цена: {combinedItem.Price}, Количество: {combinedItem.Quantity}\");\n",
    "Console.WriteLine($\"Описание товара: {combinedItem1.Description}, Цена: {combinedItem1.Price}, Количество: {combinedItem1.Quantity}\");\n",
    "// combinedInvoice.AddLine(combinedItem);\n",
    "// combinedInvoice.AddLine(combinedItem1);\n",
    "combinedInvoice.CalculateTotal();\n",
    "combinedInvoice.PrintInvoice();"
   ]
  },
  {
   "cell_type": "code",
   "execution_count": null,
   "metadata": {
    "dotnet_interactive": {
     "language": "csharp"
    },
    "polyglot_notebook": {
     "kernelName": "csharp"
    }
   },
   "outputs": [],
   "source": [
    "public class EconomicInvoice\n",
    "{\n",
    "    private static List<Invoice> allInvoices = new List<Invoice>();\n",
    "\n",
    "    public static void AddInvoice(Invoice invoice)\n",
    "    {\n",
    "        allInvoices.Add(invoice);\n",
    "    }\n",
    "\n",
    "    public static decimal GetTotalOfAllInvoices()\n",
    "    {\n",
    "        decimal total = 0;\n",
    "        foreach (var invoice in allInvoices)\n",
    "        {\n",
    "            total += invoice.TotalAmount;\n",
    "        }\n",
    "        return total;\n",
    "    }\n",
    "}\n",
    "EconomicInvoice.AddInvoice(goodsInvoice);\n",
    "EconomicInvoice.AddInvoice(serviceInvoice);\n",
    "EconomicInvoice.AddInvoice(combinedInvoice);\n",
    "\n",
    "Console.WriteLine($\"Общая сумма всех фактур: {EconomicInvoice.GetTotalOfAllInvoices()}\");\n",
    "Console.WriteLine($\"Счет на товары: {goodsInvoice.InvoiceNumber}, Общая сумма: {goodsInvoice.TotalAmount}\");\n",
    "Console.WriteLine($\"Счет на услуги: {serviceInvoice.InvoiceNumber}, Общая сумма: {serviceInvoice.TotalAmount}\");\n",
    "Console.WriteLine($\"Счет на товары и услуги: {combinedInvoice.InvoiceNumber}, Общая сумма: {combinedInvoice.TotalAmount}\");"
   ]
  },
  {
   "cell_type": "code",
   "execution_count": null,
   "metadata": {
    "dotnet_interactive": {
     "language": "csharp"
    },
    "polyglot_notebook": {
     "kernelName": "csharp"
    }
   },
   "outputs": [],
   "source": [
    "public class InvoiceComparer\n",
    "{\n",
    "    public static void CompareInvoices(Invoice invoice1, Invoice invoice2)\n",
    "    {\n",
    "        Console.WriteLine($\"Сравниваем счета: {invoice1.InvoiceNumber} и {invoice2.InvoiceNumber}\");\n",
    "        if (invoice1.TotalAmount > invoice2.TotalAmount)\n",
    "        {\n",
    "            Console.WriteLine($\"Счет {invoice1.InvoiceNumber} на сумму {invoice1.TotalAmount} дороже счета {invoice2.InvoiceNumber} на сумму {invoice2.TotalAmount}.\");\n",
    "        }\n",
    "        else if (invoice1.TotalAmount < invoice2.TotalAmount)\n",
    "        {\n",
    "            Console.WriteLine($\"Счет {invoice2.InvoiceNumber} на сумму {invoice2.TotalAmount} дороже счета {invoice1.InvoiceNumber} на сумму {invoice1.TotalAmount}.\");\n",
    "        }\n",
    "        else\n",
    "        {\n",
    "            Console.WriteLine($\"Оба счета {invoice1.InvoiceNumber} и {invoice2.InvoiceNumber} имеют одинаковую сумму: {invoice1.TotalAmount}.\");\n",
    "        }\n",
    "    }\n",
    "}\n",
    "\n",
    "Invoice invoice1 = new Invoice(\"INV001\", DateTime.Now);\n",
    "Invoice invoice2 = new Invoice(\"INV002\", DateTime.Now);\n",
    "Invoice invoice3 = new Invoice(\"INV003\", DateTime.Now);\n",
    "\n",
    "invoice1.AddLine(new LineItem(\"Товар 1\", 100m, 2));\n",
    "invoice1.AddLine(new LineItem(\"Товар 2\", 50m, 3));\n",
    "\n",
    "invoice2.AddLine(new LineItem(\"Товар 3\", 75m, 4));\n",
    "invoice2.AddLine(new LineItem(\"Товар 4\", 30m, 5)); \n",
    "\n",
    "invoice3.AddLine(new LineItem(\"Товар 5\", 200m, 1));\n",
    "invoice3.AddLine(new LineItem(\"Товар 6\", 50m, 3));\n",
    "\n",
    "InvoiceComparer.CompareInvoices(invoice1, invoice2);\n",
    "InvoiceComparer.CompareInvoices(invoice1, invoice3);\n",
    "InvoiceComparer.CompareInvoices(invoice2, invoice3);\n"
   ]
  }
 ],
 "metadata": {
  "kernelspec": {
   "display_name": ".NET (C#)",
   "language": "C#",
   "name": ".net-csharp"
  },
  "polyglot_notebook": {
   "kernelInfo": {
    "defaultKernelName": "csharp",
    "items": [
     {
      "aliases": [],
      "languageName": "csharp",
      "name": "csharp"
     }
    ]
   }
  }
 },
 "nbformat": 4,
 "nbformat_minor": 2
}
